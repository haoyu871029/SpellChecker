{
 "cells": [
  {
   "cell_type": "code",
   "execution_count": 1,
   "metadata": {},
   "outputs": [],
   "source": [
    "# < 1-1 >\n",
    "# 定義一個函式將代表語料庫內容的大字串變成一個單字一個單字(都小寫)組成的一維陣列\n",
    "import re\n",
    "\n",
    "def words(text): \n",
    "  return re.findall(r'\\w+', text.lower())\n",
    "\n",
    "word_all = words(open('big.txt').read())"
   ]
  },
  {
   "cell_type": "code",
   "execution_count": 3,
   "metadata": {},
   "outputs": [
    {
     "data": {
      "text/plain": [
       "str"
      ]
     },
     "execution_count": 3,
     "metadata": {},
     "output_type": "execute_result"
    }
   ],
   "source": [
    "# test\n",
    "\n",
    "open('big.txt').read() # 把整個txt檔的內容變成一個大字串\n",
    "words(open('big.txt').read()) # 把大字串變成一個單字一個單字(都小寫)組成的一維陣列"
   ]
  },
  {
   "cell_type": "code",
   "execution_count": 5,
   "metadata": {},
   "outputs": [],
   "source": [
    "# < 1-2 >\n",
    "# 計算一維陣列中每個單字出現的數量，並以字典的形式呈現\n",
    "\n",
    "from collections import Counter\n",
    "\n",
    "word_count = Counter(word_all)\n",
    "word_count # 每個單字出現的數量，以字典的形式呈現"
   ]
  },
  {
   "cell_type": "code",
   "execution_count": 35,
   "metadata": {},
   "outputs": [],
   "source": [
    "# < 1-3 >\n",
    "# 定義一個函式，計算某個單字在整篇文章中所佔的比例\n",
    "\n",
    "def percent(word): \n",
    "  sum_of_word_i = word_count[word] # 某個單字出現的次數\n",
    "  sum_of_all_words = sum(word_count.values()) # 所有單字出現的次數\n",
    "  return sum_of_word_i / sum_of_all_words # 某個單字在整篇文章中所佔的比例"
   ]
  },
  {
   "cell_type": "code",
   "execution_count": 7,
   "metadata": {},
   "outputs": [
    {
     "data": {
      "text/plain": [
       "[('', 'apple'),\n",
       " ('a', 'pple'),\n",
       " ('ap', 'ple'),\n",
       " ('app', 'le'),\n",
       " ('appl', 'e'),\n",
       " ('apple', '')]"
      ]
     },
     "execution_count": 7,
     "metadata": {},
     "output_type": "execute_result"
    }
   ],
   "source": [
    "# test\n",
    "def edits1(word):\n",
    "    splits     = [(word[:i], word[i:])    for i in range(len(word) + 1)]\n",
    "    return splits\n",
    "\n",
    "edits1('apple')"
   ]
  },
  {
   "cell_type": "code",
   "execution_count": 10,
   "metadata": {},
   "outputs": [
    {
     "data": {
      "text/plain": [
       "['pple', 'aple', 'aple', 'appe', 'appl']"
      ]
     },
     "execution_count": 10,
     "metadata": {},
     "output_type": "execute_result"
    }
   ],
   "source": [
    "# test\n",
    "def edits1(word):\n",
    "    splits     = [(word[:i], word[i:])    for i in range(len(word) + 1)]\n",
    "    # 抓 少打一個字:\n",
    "    deletes    = [L + R[1:]               for L, R in splits if R]\n",
    "    return deletes\n",
    "\n",
    "edits1('apple')"
   ]
  },
  {
   "cell_type": "code",
   "execution_count": 11,
   "metadata": {},
   "outputs": [
    {
     "data": {
      "text/plain": [
       "['paple', 'apple', 'aplpe', 'appel']"
      ]
     },
     "execution_count": 11,
     "metadata": {},
     "output_type": "execute_result"
    }
   ],
   "source": [
    "# test\n",
    "def edits1(word):\n",
    "    splits     = [(word[:i], word[i:])    for i in range(len(word) + 1)]\n",
    "    # 抓 其中兩個字母打相反:\n",
    "    transposes = [L + R[1] + R[0] + R[2:] for L, R in splits if len(R)>1]\n",
    "    return transposes\n",
    "\n",
    "edits1('apple')"
   ]
  },
  {
   "cell_type": "code",
   "execution_count": 13,
   "metadata": {},
   "outputs": [
    {
     "data": {
      "text/plain": [
       "['aapple', 'appple', 'appple', 'applle', 'applee']"
      ]
     },
     "execution_count": 13,
     "metadata": {},
     "output_type": "execute_result"
    }
   ],
   "source": [
    "# test\n",
    "def edits1(word):\n",
    "    splits     = [(word[:i], word[i:])    for i in range(len(word) + 1)]\n",
    "    # 抓 若某字母不小心打兩次:\n",
    "    doubles    = [L + R[0] + R         for L, R in splits if R]\n",
    "    return doubles \n",
    "\n",
    "edits1('apple')"
   ]
  },
  {
   "cell_type": "code",
   "execution_count": 38,
   "metadata": {},
   "outputs": [],
   "source": [
    "# < 2-1 >\n",
    "# 定義一個函式，會蒐集各種可能的修改情況，並將各種可能情況蒐集到的結果匯整成一個set回傳\n",
    "\n",
    "letters  = 'abcdefghijklmnopqrstuvwxyz'\n",
    "\n",
    "def edits1(word):\n",
    "    # 單字分屍\n",
    "    splits     = [(word[:i], word[i:])    for i in range(len(word) + 1)]\n",
    "\n",
    "    # 使用者可能少打一個字，故修正:\n",
    "    deletes    = [L + R[1:]               for L, R in splits if R]\n",
    "    # 使用者可能其中兩個字母打相反，故修正:\n",
    "    transposes = [L + R[1] + R[0] + R[2:] for L, R in splits if len(R)>1]\n",
    "    # 使用者可能某個字母打錯，故修正:\n",
    "    replaces   = [L + c + R[1:]           for L, R in splits if R for c in letters]\n",
    "    # 使用者可能在字母之間的空隙多打一個字母，故修正:\n",
    "    inserts    = [L + c + R               for L, R in splits for c in letters]\n",
    "    # 使用者可能某個字母不小心打了兩次，故修正:\n",
    "    doubles    = [L + R[0] + R         for L, R in splits if R]\n",
    "    # 使用者可能某連續字母少打了一個，故修正:\n",
    "    one = [L + R[1:] for L, R in splits if len(R)>1 and R[0]==R[1]]\n",
    "    return set(deletes + transposes + replaces + inserts + doubles + one)"
   ]
  },
  {
   "cell_type": "code",
   "execution_count": null,
   "metadata": {},
   "outputs": [],
   "source": [
    "# test\n",
    "\n",
    "print(edits1('apple'), \"\\n\")\n",
    "\n",
    "for item in edits1('apple'):\n",
    "    print(item)"
   ]
  },
  {
   "cell_type": "code",
   "execution_count": null,
   "metadata": {},
   "outputs": [],
   "source": [
    "# test\n",
    "\n",
    "def edits2(word): \n",
    "    return (e2 for e1 in edits1(word) for e2 in edits1(e1))\n",
    "\n",
    "for item in edits2('apple'):\n",
    "    print(item)"
   ]
  },
  {
   "cell_type": "code",
   "execution_count": 29,
   "metadata": {},
   "outputs": [],
   "source": [
    "# < 2-2 >\n",
    "\n",
    "# word的所有情況再各自跑出所有情況\n",
    "def edits2(word): \n",
    "    return (e2 for e1 in edits1(word) for e2 in edits1(e1))\n",
    "    # 先寫的for會在外圈\n",
    "\n",
    "# 某個情況剛好是字典裡的單字 (有被word_count統計到)，把他們搜集出來並回傳\n",
    "def known(words): \n",
    "    return set(w for w in words if w in word_count)"
   ]
  },
  {
   "cell_type": "code",
   "execution_count": 33,
   "metadata": {},
   "outputs": [],
   "source": [
    "# < 2-3 >\n",
    "\n",
    "# 回傳的優先順序應是由左至右 (1.沒有單字才回傳2.，以此類推)\n",
    "def candidates(word): \n",
    "    return (known([word]) or known(edits1(word)) or known(edits2(word)) or [word])\n",
    "    # 1. known([word]) 若回傳是這個代表word本身就是字典裡的單字，他打的是對的\n",
    "    # 2. known(edits1(word)) \n",
    "    # 3. known(edits2(word))\n",
    "    # 4. [word]\n",
    "\n",
    "def correction(word): \n",
    "    return max(candidates(word), key=percent)\n",
    "    # candidates(word)的結果應該是1.2.3.4.某一個set，裡面有很多個單字\n",
    "    # key=percent，就是把每個單字的出現比例算出來，然後用max回傳出現比例最高的那個單字"
   ]
  },
  {
   "cell_type": "code",
   "execution_count": 36,
   "metadata": {},
   "outputs": [
    {
     "data": {
      "text/plain": [
       "'apple'"
      ]
     },
     "execution_count": 36,
     "metadata": {},
     "output_type": "execute_result"
    }
   ],
   "source": [
    "# test\n",
    "\n",
    "correction('apple')"
   ]
  }
 ],
 "metadata": {
  "kernelspec": {
   "display_name": "Python 3.9.13 ('TF')",
   "language": "python",
   "name": "python3"
  },
  "language_info": {
   "codemirror_mode": {
    "name": "ipython",
    "version": 3
   },
   "file_extension": ".py",
   "mimetype": "text/x-python",
   "name": "python",
   "nbconvert_exporter": "python",
   "pygments_lexer": "ipython3",
   "version": "3.9.13"
  },
  "orig_nbformat": 4,
  "vscode": {
   "interpreter": {
    "hash": "2e8dbe7ebbe7d135d2c2ec403b2ddc5cf729bd9ccab5ab4adb262667568f550d"
   }
  }
 },
 "nbformat": 4,
 "nbformat_minor": 2
}
